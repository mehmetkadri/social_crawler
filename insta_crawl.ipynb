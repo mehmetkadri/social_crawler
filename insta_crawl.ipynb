{
 "cells": [
  {
   "cell_type": "code",
   "execution_count": 1,
   "metadata": {},
   "outputs": [],
   "source": [
    "from selenium import webdriver\n",
    "from selenium.webdriver.common.keys import Keys\n",
    "import time\n",
    "\n",
    "#open chrome\n",
    "driver = webdriver.Chrome()\n",
    "\n",
    "#open instagram\n",
    "driver.get(\"https://www.instagram.com/\")\n",
    "time.sleep(2)"
   ]
  },
  {
   "cell_type": "code",
   "execution_count": 2,
   "metadata": {},
   "outputs": [],
   "source": [
    "############################# LOGIN #############################\n",
    "\n",
    "username = driver.find_element_by_name(\"username\")\n",
    "password = driver.find_element_by_name(\"password\")\n",
    "\n",
    "username.send_keys(\"mehmt_kadri\")\n",
    "password.send_keys(\"\")\n",
    "\n",
    "login = driver.find_element_by_xpath(\"//button[@type='submit']\")\n",
    "login.click()\n",
    "time.sleep(5)"
   ]
  },
  {
   "cell_type": "code",
   "execution_count": 3,
   "metadata": {},
   "outputs": [],
   "source": [
    "############################# FOLLOWERS #############################\n",
    "\n",
    "#look at profile\n",
    "driver.get(\"https://www.instagram.com/mehmt_kadri/\")\n",
    "time.sleep(2)\n",
    "\n",
    "#look at followers\n",
    "followers = driver.find_element_by_xpath(\"//a[@href='/mehmt_kadri/followers/']\")\n",
    "followers.click()\n",
    "time.sleep(2)\n",
    "\n",
    "#find the div with class named \"_aano\"\n",
    "followers_div_or = driver.find_element_by_class_name(\"_aano\")\n",
    "#get inside the div inside followers div\n",
    "followers_div = followers_div_or.find_element_by_tag_name(\"div\")\n",
    "#get inside the div inside followers div\n",
    "followers_div = followers_div.find_element_by_tag_name(\"div\")\n",
    "\n",
    "\n",
    "#scroll down to load all followers\n",
    "break_cond = 0\n",
    "while True:\n",
    "    break_cond=len(followers_div.text)\n",
    "    driver.execute_script(\"arguments[0].scrollTop = arguments[0].scrollHeight\", followers_div_or)\n",
    "\n",
    "    time.sleep(1)\n",
    "\n",
    "    if len(followers_div.text)==break_cond:\n",
    "        time.sleep(1)\n",
    "        if len(followers_div.text)==break_cond:\n",
    "            break\n"
   ]
  },
  {
   "cell_type": "code",
   "execution_count": 4,
   "metadata": {},
   "outputs": [],
   "source": [
    "all_info_on_followers = followers_div.text.split(\"Remove\\n\")\n",
    "followers = []\n",
    "for info in all_info_on_followers:\n",
    "    followers.append(info.split(\"\\n\")[0])\n",
    "\n",
    "time.sleep(2)"
   ]
  },
  {
   "cell_type": "code",
   "execution_count": 8,
   "metadata": {},
   "outputs": [],
   "source": [
    "############################# FOLLOWING #############################\n",
    "\n",
    "\n",
    "#look at profile\n",
    "driver.get(\"https://www.instagram.com/mehmt_kadri/\")\n",
    "time.sleep(2)\n",
    "\n",
    "#look at following\n",
    "following = driver.find_element_by_xpath(\"//a[@href='/mehmt_kadri/following/']\")\n",
    "following.click()\n",
    "time.sleep(2)\n",
    "\n",
    "#find the div with class named \"_aano\"\n",
    "following_div_or = driver.find_element_by_class_name(\"_aano\")\n",
    "#get inside the div inside following div\n",
    "following_div = following_div_or.find_element_by_tag_name(\"div\")\n",
    "#get inside the div inside following div\n",
    "following_div = following_div.find_element_by_tag_name(\"div\")\n",
    "\n",
    "#scroll down to load all following\n",
    "break_cond_2 = 0\n",
    "while True:\n",
    "    break_cond_2=len(following_div.text)\n",
    "    driver.execute_script(\"arguments[0].scrollTop = arguments[0].scrollHeight\", following_div_or)\n",
    "\n",
    "    time.sleep(1)\n",
    "\n",
    "    if len(following_div.text)==break_cond_2:\n",
    "        time.sleep(1)\n",
    "        if len(following_div.text)==break_cond_2:\n",
    "            break\n"
   ]
  },
  {
   "cell_type": "code",
   "execution_count": 9,
   "metadata": {},
   "outputs": [],
   "source": [
    "all_info_on_following = following_div.text.split(\"Following\\n\")\n",
    "following = []\n",
    "for info in all_info_on_following:\n",
    "    following.append(info.split(\"\\n\")[0])\n",
    "\n",
    "time.sleep(2)"
   ]
  },
  {
   "cell_type": "code",
   "execution_count": 10,
   "metadata": {},
   "outputs": [
    {
     "name": "stdout",
     "output_type": "stream",
     "text": [
      "People you follow but they don't follow you back:\n",
      "miloman1113\n",
      "orhanakdmir\n",
      "mskubilisim\n",
      "_aboutbook\n",
      "muglaedutr\n",
      "kzlkid\n"
     ]
    }
   ],
   "source": [
    "############################# NOT FOLLOWING BACK #############################\n",
    "\n",
    "#find people you follow but they don't follow you back\n",
    "not_following_back = []\n",
    "for person in following:\n",
    "    if person not in followers:\n",
    "        not_following_back.append(person)\n",
    "\n",
    "print(\"People you follow but they don't follow you back:\")\n",
    "for person in not_following_back:\n",
    "    print(person)"
   ]
  },
  {
   "cell_type": "code",
   "execution_count": null,
   "metadata": {},
   "outputs": [],
   "source": [
    "#close chrome\n",
    "driver.close()"
   ]
  }
 ],
 "metadata": {
  "kernelspec": {
   "display_name": "Python 3.9.13 64-bit (microsoft store)",
   "language": "python",
   "name": "python3"
  },
  "language_info": {
   "codemirror_mode": {
    "name": "ipython",
    "version": 3
   },
   "file_extension": ".py",
   "mimetype": "text/x-python",
   "name": "python",
   "nbconvert_exporter": "python",
   "pygments_lexer": "ipython3",
   "version": "3.9.13"
  },
  "orig_nbformat": 4,
  "vscode": {
   "interpreter": {
    "hash": "31584cf6cf0730376665dbd1a92b0d8102e9f8ac4484bb3c2346290c4fd8bd5b"
   }
  }
 },
 "nbformat": 4,
 "nbformat_minor": 2
}
